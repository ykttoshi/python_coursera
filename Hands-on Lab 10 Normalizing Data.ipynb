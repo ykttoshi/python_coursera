{
 "cells": [
  {
   "cell_type": "markdown",
   "metadata": {},
   "source": [
    "<p style=\"text-align:center\">\n",
    "    <a href=\"https://skills.network\" target=\"_blank\">\n",
    "    <img src=\"https://cf-courses-data.s3.us.cloud-object-storage.appdomain.cloud/assets/logos/SN_web_lightmode.png\" width=\"200\" alt=\"Skills Network Logo\"  />\n",
    "    </a>\n",
    "</p>\n"
   ]
  },
  {
   "cell_type": "markdown",
   "metadata": {},
   "source": [
    "# **Data Normalization Techniques**\n"
   ]
  },
  {
   "cell_type": "markdown",
   "metadata": {},
   "source": [
    "Estimated time needed: **30** minutes\n"
   ]
  },
  {
   "cell_type": "markdown",
   "metadata": {},
   "source": [
    "In this lab, you will focus on data normalization. This includes identifying compensation-related columns, applying normalization techniques, and visualizing the data distributions.\n"
   ]
  },
  {
   "cell_type": "markdown",
   "metadata": {},
   "source": [
    "## Objectives\n"
   ]
  },
  {
   "cell_type": "markdown",
   "metadata": {},
   "source": [
    "In this lab, you will perform the following:\n"
   ]
  },
  {
   "cell_type": "markdown",
   "metadata": {},
   "source": [
    "- Identify duplicate rows and remove them.\n",
    "\n",
    "- Check and handle missing values in key columns.\n",
    "\n",
    "- Identify and normalize compensation-related columns.\n",
    "\n",
    "- Visualize the effect of normalization techniques on data distributions.\n"
   ]
  },
  {
   "cell_type": "markdown",
   "metadata": {},
   "source": [
    "-----\n"
   ]
  },
  {
   "cell_type": "markdown",
   "metadata": {},
   "source": [
    "## Hands on Lab\n"
   ]
  },
  {
   "cell_type": "markdown",
   "metadata": {},
   "source": [
    "#### Step 1: Install and Import Libraries\n"
   ]
  },
  {
   "cell_type": "code",
   "execution_count": 1,
   "metadata": {},
   "outputs": [
    {
     "name": "stdout",
     "output_type": "stream",
     "text": [
      "Requirement already satisfied: pandas in /opt/conda/lib/python3.12/site-packages (2.3.3)\n",
      "Requirement already satisfied: numpy>=1.26.0 in /opt/conda/lib/python3.12/site-packages (from pandas) (2.3.4)\n",
      "Requirement already satisfied: python-dateutil>=2.8.2 in /opt/conda/lib/python3.12/site-packages (from pandas) (2.9.0.post0)\n",
      "Requirement already satisfied: pytz>=2020.1 in /opt/conda/lib/python3.12/site-packages (from pandas) (2024.2)\n",
      "Requirement already satisfied: tzdata>=2022.7 in /opt/conda/lib/python3.12/site-packages (from pandas) (2025.2)\n",
      "Requirement already satisfied: six>=1.5 in /opt/conda/lib/python3.12/site-packages (from python-dateutil>=2.8.2->pandas) (1.17.0)\n"
     ]
    }
   ],
   "source": [
    "!pip install pandas"
   ]
  },
  {
   "cell_type": "code",
   "execution_count": 2,
   "metadata": {},
   "outputs": [
    {
     "name": "stdout",
     "output_type": "stream",
     "text": [
      "Requirement already satisfied: matplotlib in /opt/conda/lib/python3.12/site-packages (3.10.7)\n",
      "Requirement already satisfied: contourpy>=1.0.1 in /opt/conda/lib/python3.12/site-packages (from matplotlib) (1.3.3)\n",
      "Requirement already satisfied: cycler>=0.10 in /opt/conda/lib/python3.12/site-packages (from matplotlib) (0.12.1)\n",
      "Requirement already satisfied: fonttools>=4.22.0 in /opt/conda/lib/python3.12/site-packages (from matplotlib) (4.60.1)\n",
      "Requirement already satisfied: kiwisolver>=1.3.1 in /opt/conda/lib/python3.12/site-packages (from matplotlib) (1.4.9)\n",
      "Requirement already satisfied: numpy>=1.23 in /opt/conda/lib/python3.12/site-packages (from matplotlib) (2.3.4)\n",
      "Requirement already satisfied: packaging>=20.0 in /opt/conda/lib/python3.12/site-packages (from matplotlib) (24.2)\n",
      "Requirement already satisfied: pillow>=8 in /opt/conda/lib/python3.12/site-packages (from matplotlib) (12.0.0)\n",
      "Requirement already satisfied: pyparsing>=3 in /opt/conda/lib/python3.12/site-packages (from matplotlib) (3.2.5)\n",
      "Requirement already satisfied: python-dateutil>=2.7 in /opt/conda/lib/python3.12/site-packages (from matplotlib) (2.9.0.post0)\n",
      "Requirement already satisfied: six>=1.5 in /opt/conda/lib/python3.12/site-packages (from python-dateutil>=2.7->matplotlib) (1.17.0)\n"
     ]
    }
   ],
   "source": [
    "!pip install matplotlib"
   ]
  },
  {
   "cell_type": "code",
   "execution_count": 3,
   "metadata": {},
   "outputs": [],
   "source": [
    "import pandas as pd\n",
    "import matplotlib.pyplot as plt"
   ]
  },
  {
   "cell_type": "markdown",
   "metadata": {},
   "source": [
    "### Step 2: Load the Dataset into a DataFrame\n"
   ]
  },
  {
   "cell_type": "markdown",
   "metadata": {},
   "source": [
    "We use the <code>pandas.read_csv()</code> function for reading CSV files. However, in this version of the lab, which operates on JupyterLite, the dataset needs to be downloaded to the interface using the provided code below.\n"
   ]
  },
  {
   "cell_type": "markdown",
   "metadata": {},
   "source": [
    "The functions below will download the dataset into your browser:\n"
   ]
  },
  {
   "cell_type": "code",
   "execution_count": 4,
   "metadata": {},
   "outputs": [
    {
     "name": "stdout",
     "output_type": "stream",
     "text": [
      "   ResponseId                      MainBranch                 Age  \\\n",
      "0           1  I am a developer by profession  Under 18 years old   \n",
      "1           2  I am a developer by profession     35-44 years old   \n",
      "2           3  I am a developer by profession     45-54 years old   \n",
      "3           4           I am learning to code     18-24 years old   \n",
      "4           5  I am a developer by profession     18-24 years old   \n",
      "\n",
      "            Employment RemoteWork   Check  \\\n",
      "0  Employed, full-time     Remote  Apples   \n",
      "1  Employed, full-time     Remote  Apples   \n",
      "2  Employed, full-time     Remote  Apples   \n",
      "3   Student, full-time        NaN  Apples   \n",
      "4   Student, full-time        NaN  Apples   \n",
      "\n",
      "                                    CodingActivities  \\\n",
      "0                                              Hobby   \n",
      "1  Hobby;Contribute to open-source projects;Other...   \n",
      "2  Hobby;Contribute to open-source projects;Other...   \n",
      "3                                                NaN   \n",
      "4                                                NaN   \n",
      "\n",
      "                                             EdLevel  \\\n",
      "0                          Primary/elementary school   \n",
      "1       Bachelor’s degree (B.A., B.S., B.Eng., etc.)   \n",
      "2    Master’s degree (M.A., M.S., M.Eng., MBA, etc.)   \n",
      "3  Some college/university study without earning ...   \n",
      "4  Secondary school (e.g. American high school, G...   \n",
      "\n",
      "                                           LearnCode  \\\n",
      "0                             Books / Physical media   \n",
      "1  Books / Physical media;Colleague;On the job tr...   \n",
      "2  Books / Physical media;Colleague;On the job tr...   \n",
      "3  Other online resources (e.g., videos, blogs, f...   \n",
      "4  Other online resources (e.g., videos, blogs, f...   \n",
      "\n",
      "                                     LearnCodeOnline  ... JobSatPoints_6  \\\n",
      "0                                                NaN  ...            NaN   \n",
      "1  Technical documentation;Blogs;Books;Written Tu...  ...            0.0   \n",
      "2  Technical documentation;Blogs;Books;Written Tu...  ...            NaN   \n",
      "3  Stack Overflow;How-to videos;Interactive tutorial  ...            NaN   \n",
      "4  Technical documentation;Blogs;Written Tutorial...  ...            NaN   \n",
      "\n",
      "  JobSatPoints_7 JobSatPoints_8 JobSatPoints_9 JobSatPoints_10  \\\n",
      "0            NaN            NaN            NaN             NaN   \n",
      "1            0.0            0.0            0.0             0.0   \n",
      "2            NaN            NaN            NaN             NaN   \n",
      "3            NaN            NaN            NaN             NaN   \n",
      "4            NaN            NaN            NaN             NaN   \n",
      "\n",
      "  JobSatPoints_11           SurveyLength SurveyEase ConvertedCompYearly JobSat  \n",
      "0             NaN                    NaN        NaN                 NaN    NaN  \n",
      "1             0.0                    NaN        NaN                 NaN    NaN  \n",
      "2             NaN  Appropriate in length       Easy                 NaN    NaN  \n",
      "3             NaN               Too long       Easy                 NaN    NaN  \n",
      "4             NaN              Too short       Easy                 NaN    NaN  \n",
      "\n",
      "[5 rows x 114 columns]\n"
     ]
    }
   ],
   "source": [
    "#file_path = \"https://cf-courses-data.s3.us.cloud-object-storage.appdomain.cloud/n01PQ9pSmiRX6520flujwQ/survey-data.csv\"\n",
    "file_path = \"https://cf-courses-data.s3.us.cloud-object-storage.appdomain.cloud/VYPrOu0Vs3I0hKLLjiPGrA/survey-data-with-duplicate.csv\"\n",
    "\n",
    "df = pd.read_csv(file_path)\n",
    "\n",
    "# Display the first few rows to check if data is loaded correctly\n",
    "print(df.head())\n"
   ]
  },
  {
   "cell_type": "code",
   "execution_count": 5,
   "metadata": {},
   "outputs": [],
   "source": [
    "#df = pd.read_csv(\"https://cf-courses-data.s3.us.cloud-object-storage.appdomain.cloud/n01PQ9pSmiRX6520flujwQ/survey-data.csv\")"
   ]
  },
  {
   "cell_type": "markdown",
   "metadata": {},
   "source": [
    "### Section 1: Handling Duplicates\n",
    "##### Task 1: Identify and remove duplicate rows.\n"
   ]
  },
  {
   "cell_type": "code",
   "execution_count": 6,
   "metadata": {},
   "outputs": [
    {
     "name": "stdout",
     "output_type": "stream",
     "text": [
      "Number of duplicate rows: 20\n"
     ]
    },
    {
     "data": {
      "text/plain": [
       "(65437, 114)"
      ]
     },
     "execution_count": 6,
     "metadata": {},
     "output_type": "execute_result"
    }
   ],
   "source": [
    "# Identify duplicate rows\n",
    "duplicates = df[df.duplicated()]\n",
    "\n",
    "# Count the number of duplicate rows\n",
    "duplicate_count = df.duplicated().sum()\n",
    "print(f'Number of duplicate rows: {duplicate_count}')\n",
    "df = df.drop_duplicates()\n",
    "df.shape"
   ]
  },
  {
   "cell_type": "markdown",
   "metadata": {},
   "source": [
    "### Section 2: Handling Missing Values\n",
    "##### Task 2: Identify missing values in `CodingActivities`.\n"
   ]
  },
  {
   "cell_type": "code",
   "execution_count": 7,
   "metadata": {},
   "outputs": [
    {
     "name": "stdout",
     "output_type": "stream",
     "text": [
      "Missing values in 'CodingActivities': 10971\n"
     ]
    }
   ],
   "source": [
    "missing_count = df['CodingActivities'].isnull().sum()\n",
    "print(f\"Missing values in 'CodingActivities': {missing_count}\")"
   ]
  },
  {
   "cell_type": "markdown",
   "metadata": {},
   "source": [
    "##### Task 3: Impute missing values in CodingActivities with forward-fill.\n"
   ]
  },
  {
   "cell_type": "code",
   "execution_count": 8,
   "metadata": {},
   "outputs": [
    {
     "name": "stdout",
     "output_type": "stream",
     "text": [
      "0\n"
     ]
    }
   ],
   "source": [
    "# Impute missing values in 'CodingActivities' using forward-fill\n",
    "df['CodingActivities'] = df['CodingActivities'].ffill()\n",
    "\n",
    "# Check if imputation worked\n",
    "print(df['CodingActivities'].isnull().sum())  # Should be 0 if all missing values were filled\n"
   ]
  },
  {
   "cell_type": "markdown",
   "metadata": {},
   "source": [
    "**Note**:  Before normalizing ConvertedCompYearly, ensure that any missing values (NaN) in this column are handled appropriately. You can choose to either drop the rows containing NaN or replace the missing values with a suitable statistic (e.g., median or mean).\n"
   ]
  },
  {
   "cell_type": "markdown",
   "metadata": {},
   "source": [
    "### Section 3: Normalizing Compensation Data\n",
    "##### Task 4: Identify compensation-related columns, such as ConvertedCompYearly.\n",
    "Normalization is commonly applied to compensation data to bring values within a comparable range. Here, you’ll identify ConvertedCompYearly or similar columns, which contain compensation information. This column will be used in the subsequent tasks for normalization.\n"
   ]
  },
  {
   "cell_type": "code",
   "execution_count": 9,
   "metadata": {},
   "outputs": [
    {
     "name": "stdout",
     "output_type": "stream",
     "text": [
      "Missing values in 'ConvertedCompYearly': 42002\n",
      "count    2.343500e+04\n",
      "mean     8.615529e+04\n",
      "std      1.867570e+05\n",
      "min      1.000000e+00\n",
      "25%      3.271200e+04\n",
      "50%      6.500000e+04\n",
      "75%      1.079715e+05\n",
      "max      1.625660e+07\n",
      "1%       2.076800e+02\n",
      "5%       3.497000e+03\n",
      "Name: ConvertedCompYearly, dtype: float64\n"
     ]
    }
   ],
   "source": [
    "missing_count = df['ConvertedCompYearly'].isnull().sum()\n",
    "print(f\"Missing values in 'ConvertedCompYearly': {missing_count}\")\n",
    "\n",
    "summary = df['ConvertedCompYearly'].describe()\n",
    "summary['1%'] = df['ConvertedCompYearly'].quantile(0.01)\n",
    "summary['5%'] = df['ConvertedCompYearly'].quantile(0.05)\n",
    "\n",
    "print(summary)"
   ]
  },
  {
   "cell_type": "code",
   "execution_count": 10,
   "metadata": {},
   "outputs": [
    {
     "data": {
      "text/html": [
       "<div>\n",
       "<style scoped>\n",
       "    .dataframe tbody tr th:only-of-type {\n",
       "        vertical-align: middle;\n",
       "    }\n",
       "\n",
       "    .dataframe tbody tr th {\n",
       "        vertical-align: top;\n",
       "    }\n",
       "\n",
       "    .dataframe thead th {\n",
       "        text-align: right;\n",
       "    }\n",
       "</style>\n",
       "<table border=\"1\" class=\"dataframe\">\n",
       "  <thead>\n",
       "    <tr style=\"text-align: right;\">\n",
       "      <th></th>\n",
       "      <th>mean_comp</th>\n",
       "      <th>missing_count</th>\n",
       "    </tr>\n",
       "    <tr>\n",
       "      <th>EdLevel</th>\n",
       "      <th></th>\n",
       "      <th></th>\n",
       "    </tr>\n",
       "  </thead>\n",
       "  <tbody>\n",
       "    <tr>\n",
       "      <th>Associate degree (A.A., A.S., etc.)</th>\n",
       "      <td>75964.554667</td>\n",
       "      <td>1043</td>\n",
       "    </tr>\n",
       "    <tr>\n",
       "      <th>Bachelor’s degree (B.A., B.S., B.Eng., etc.)</th>\n",
       "      <td>88477.182151</td>\n",
       "      <td>14577</td>\n",
       "    </tr>\n",
       "    <tr>\n",
       "      <th>Master’s degree (M.A., M.S., M.Eng., MBA, etc.)</th>\n",
       "      <td>85725.929586</td>\n",
       "      <td>8726</td>\n",
       "    </tr>\n",
       "    <tr>\n",
       "      <th>Primary/elementary school</th>\n",
       "      <td>65733.578231</td>\n",
       "      <td>999</td>\n",
       "    </tr>\n",
       "    <tr>\n",
       "      <th>Professional degree (JD, MD, Ph.D, Ed.D, etc.)</th>\n",
       "      <td>128351.152381</td>\n",
       "      <td>1815</td>\n",
       "    </tr>\n",
       "    <tr>\n",
       "      <th>Secondary school (e.g. American high school, German Realschule or Gymnasium, etc.)</th>\n",
       "      <td>56389.470886</td>\n",
       "      <td>4608</td>\n",
       "    </tr>\n",
       "    <tr>\n",
       "      <th>Some college/university study without earning a degree</th>\n",
       "      <td>78914.449338</td>\n",
       "      <td>4858</td>\n",
       "    </tr>\n",
       "    <tr>\n",
       "      <th>Something else</th>\n",
       "      <td>68315.435407</td>\n",
       "      <td>723</td>\n",
       "    </tr>\n",
       "  </tbody>\n",
       "</table>\n",
       "</div>"
      ],
      "text/plain": [
       "                                                        mean_comp  \\\n",
       "EdLevel                                                             \n",
       "Associate degree (A.A., A.S., etc.)                  75964.554667   \n",
       "Bachelor’s degree (B.A., B.S., B.Eng., etc.)         88477.182151   \n",
       "Master’s degree (M.A., M.S., M.Eng., MBA, etc.)      85725.929586   \n",
       "Primary/elementary school                            65733.578231   \n",
       "Professional degree (JD, MD, Ph.D, Ed.D, etc.)      128351.152381   \n",
       "Secondary school (e.g. American high school, Ge...   56389.470886   \n",
       "Some college/university study without earning a...   78914.449338   \n",
       "Something else                                       68315.435407   \n",
       "\n",
       "                                                    missing_count  \n",
       "EdLevel                                                            \n",
       "Associate degree (A.A., A.S., etc.)                          1043  \n",
       "Bachelor’s degree (B.A., B.S., B.Eng., etc.)                14577  \n",
       "Master’s degree (M.A., M.S., M.Eng., MBA, etc.)              8726  \n",
       "Primary/elementary school                                     999  \n",
       "Professional degree (JD, MD, Ph.D, Ed.D, etc.)               1815  \n",
       "Secondary school (e.g. American high school, Ge...           4608  \n",
       "Some college/university study without earning a...           4858  \n",
       "Something else                                                723  "
      ]
     },
     "execution_count": 10,
     "metadata": {},
     "output_type": "execute_result"
    }
   ],
   "source": [
    "#calculcate average compensation by aeducation level and missing values\n",
    "df.groupby('EdLevel').agg(\n",
    "    mean_comp=('ConvertedCompYearly', 'mean'),\n",
    "    missing_count=('ConvertedCompYearly', lambda x: x.isna().sum())\n",
    ")\n"
   ]
  },
  {
   "cell_type": "code",
   "execution_count": 11,
   "metadata": {},
   "outputs": [
    {
     "name": "stdout",
     "output_type": "stream",
     "text": [
      "count     22965.000000\n",
      "mean      78606.216329\n",
      "std       61963.639186\n",
      "min         209.000000\n",
      "25%       33758.000000\n",
      "50%       65000.000000\n",
      "75%      107406.000000\n",
      "max      386662.000000\n",
      "1%          773.000000\n",
      "5%         4307.000000\n",
      "Name: ConvertedCompYearly, dtype: float64\n"
     ]
    },
    {
     "data": {
      "text/html": [
       "<div>\n",
       "<style scoped>\n",
       "    .dataframe tbody tr th:only-of-type {\n",
       "        vertical-align: middle;\n",
       "    }\n",
       "\n",
       "    .dataframe tbody tr th {\n",
       "        vertical-align: top;\n",
       "    }\n",
       "\n",
       "    .dataframe thead th {\n",
       "        text-align: right;\n",
       "    }\n",
       "</style>\n",
       "<table border=\"1\" class=\"dataframe\">\n",
       "  <thead>\n",
       "    <tr style=\"text-align: right;\">\n",
       "      <th></th>\n",
       "      <th>mean_comp</th>\n",
       "      <th>missing_count</th>\n",
       "    </tr>\n",
       "    <tr>\n",
       "      <th>EdLevel</th>\n",
       "      <th></th>\n",
       "      <th></th>\n",
       "    </tr>\n",
       "  </thead>\n",
       "  <tbody>\n",
       "    <tr>\n",
       "      <th>Associate degree (A.A., A.S., etc.)</th>\n",
       "      <td>72662.172554</td>\n",
       "      <td>1043</td>\n",
       "    </tr>\n",
       "    <tr>\n",
       "      <th>Bachelor’s degree (B.A., B.S., B.Eng., etc.)</th>\n",
       "      <td>80644.245647</td>\n",
       "      <td>14577</td>\n",
       "    </tr>\n",
       "    <tr>\n",
       "      <th>Master’s degree (M.A., M.S., M.Eng., MBA, etc.)</th>\n",
       "      <td>80398.567543</td>\n",
       "      <td>8726</td>\n",
       "    </tr>\n",
       "    <tr>\n",
       "      <th>Primary/elementary school</th>\n",
       "      <td>67077.338235</td>\n",
       "      <td>999</td>\n",
       "    </tr>\n",
       "    <tr>\n",
       "      <th>Professional degree (JD, MD, Ph.D, Ed.D, etc.)</th>\n",
       "      <td>93415.384135</td>\n",
       "      <td>1815</td>\n",
       "    </tr>\n",
       "    <tr>\n",
       "      <th>Secondary school (e.g. American high school, German Realschule or Gymnasium, etc.)</th>\n",
       "      <td>54784.456336</td>\n",
       "      <td>4608</td>\n",
       "    </tr>\n",
       "    <tr>\n",
       "      <th>Some college/university study without earning a degree</th>\n",
       "      <td>74246.733942</td>\n",
       "      <td>4858</td>\n",
       "    </tr>\n",
       "    <tr>\n",
       "      <th>Something else</th>\n",
       "      <td>61056.082524</td>\n",
       "      <td>723</td>\n",
       "    </tr>\n",
       "  </tbody>\n",
       "</table>\n",
       "</div>"
      ],
      "text/plain": [
       "                                                       mean_comp  \\\n",
       "EdLevel                                                            \n",
       "Associate degree (A.A., A.S., etc.)                 72662.172554   \n",
       "Bachelor’s degree (B.A., B.S., B.Eng., etc.)        80644.245647   \n",
       "Master’s degree (M.A., M.S., M.Eng., MBA, etc.)     80398.567543   \n",
       "Primary/elementary school                           67077.338235   \n",
       "Professional degree (JD, MD, Ph.D, Ed.D, etc.)      93415.384135   \n",
       "Secondary school (e.g. American high school, Ge...  54784.456336   \n",
       "Some college/university study without earning a...  74246.733942   \n",
       "Something else                                      61056.082524   \n",
       "\n",
       "                                                    missing_count  \n",
       "EdLevel                                                            \n",
       "Associate degree (A.A., A.S., etc.)                          1043  \n",
       "Bachelor’s degree (B.A., B.S., B.Eng., etc.)                14577  \n",
       "Master’s degree (M.A., M.S., M.Eng., MBA, etc.)              8726  \n",
       "Primary/elementary school                                     999  \n",
       "Professional degree (JD, MD, Ph.D, Ed.D, etc.)               1815  \n",
       "Secondary school (e.g. American high school, Ge...           4608  \n",
       "Some college/university study without earning a...           4858  \n",
       "Something else                                                723  "
      ]
     },
     "execution_count": 11,
     "metadata": {},
     "output_type": "execute_result"
    }
   ],
   "source": [
    "#remove outliers \n",
    "\n",
    "lower_bound = df['ConvertedCompYearly'].quantile(0.01)\n",
    "upper_bound = df['ConvertedCompYearly'].quantile(0.99)\n",
    "\n",
    "# Filter out outliers\n",
    "df_no_outliers = df[\n",
    "    (df['ConvertedCompYearly'].isna()) |\n",
    "    ((df['ConvertedCompYearly'] >= lower_bound) &\n",
    "     (df['ConvertedCompYearly'] <= upper_bound))\n",
    "]\n",
    "\n",
    "\n",
    "summary = df_no_outliers['ConvertedCompYearly'].describe()\n",
    "summary['1%'] = df_no_outliers['ConvertedCompYearly'].quantile(0.01)\n",
    "summary['5%'] = df_no_outliers['ConvertedCompYearly'].quantile(0.05)\n",
    "\n",
    "print(summary)\n",
    "\n",
    "\n",
    "df_no_outliers.groupby('EdLevel').agg(\n",
    "    mean_comp=('ConvertedCompYearly', 'mean'),\n",
    "    missing_count=('ConvertedCompYearly', lambda x: x.isna().sum())\n",
    ")\n"
   ]
  },
  {
   "cell_type": "code",
   "execution_count": 12,
   "metadata": {},
   "outputs": [
    {
     "name": "stdout",
     "output_type": "stream",
     "text": [
      "count     60314.000000\n",
      "mean      77128.487784\n",
      "std       38976.299479\n",
      "min         209.000000\n",
      "25%       60000.000000\n",
      "50%       80398.567543\n",
      "75%       80644.245647\n",
      "max      386662.000000\n",
      "1%         1922.390000\n",
      "5%        15466.000000\n",
      "Name: ConvertedCompYearly, dtype: float64\n"
     ]
    },
    {
     "data": {
      "text/html": [
       "<div>\n",
       "<style scoped>\n",
       "    .dataframe tbody tr th:only-of-type {\n",
       "        vertical-align: middle;\n",
       "    }\n",
       "\n",
       "    .dataframe tbody tr th {\n",
       "        vertical-align: top;\n",
       "    }\n",
       "\n",
       "    .dataframe thead th {\n",
       "        text-align: right;\n",
       "    }\n",
       "</style>\n",
       "<table border=\"1\" class=\"dataframe\">\n",
       "  <thead>\n",
       "    <tr style=\"text-align: right;\">\n",
       "      <th></th>\n",
       "      <th>mean_comp</th>\n",
       "      <th>missing_count</th>\n",
       "    </tr>\n",
       "    <tr>\n",
       "      <th>EdLevel</th>\n",
       "      <th></th>\n",
       "      <th></th>\n",
       "    </tr>\n",
       "  </thead>\n",
       "  <tbody>\n",
       "    <tr>\n",
       "      <th>Associate degree (A.A., A.S., etc.)</th>\n",
       "      <td>72662.172554</td>\n",
       "      <td>0</td>\n",
       "    </tr>\n",
       "    <tr>\n",
       "      <th>Bachelor’s degree (B.A., B.S., B.Eng., etc.)</th>\n",
       "      <td>80644.245647</td>\n",
       "      <td>0</td>\n",
       "    </tr>\n",
       "    <tr>\n",
       "      <th>Master’s degree (M.A., M.S., M.Eng., MBA, etc.)</th>\n",
       "      <td>80398.567543</td>\n",
       "      <td>0</td>\n",
       "    </tr>\n",
       "    <tr>\n",
       "      <th>Primary/elementary school</th>\n",
       "      <td>67077.338235</td>\n",
       "      <td>0</td>\n",
       "    </tr>\n",
       "    <tr>\n",
       "      <th>Professional degree (JD, MD, Ph.D, Ed.D, etc.)</th>\n",
       "      <td>93415.384135</td>\n",
       "      <td>0</td>\n",
       "    </tr>\n",
       "    <tr>\n",
       "      <th>Secondary school (e.g. American high school, German Realschule or Gymnasium, etc.)</th>\n",
       "      <td>54784.456336</td>\n",
       "      <td>0</td>\n",
       "    </tr>\n",
       "    <tr>\n",
       "      <th>Some college/university study without earning a degree</th>\n",
       "      <td>74246.733942</td>\n",
       "      <td>0</td>\n",
       "    </tr>\n",
       "    <tr>\n",
       "      <th>Something else</th>\n",
       "      <td>61056.082524</td>\n",
       "      <td>0</td>\n",
       "    </tr>\n",
       "  </tbody>\n",
       "</table>\n",
       "</div>"
      ],
      "text/plain": [
       "                                                       mean_comp  \\\n",
       "EdLevel                                                            \n",
       "Associate degree (A.A., A.S., etc.)                 72662.172554   \n",
       "Bachelor’s degree (B.A., B.S., B.Eng., etc.)        80644.245647   \n",
       "Master’s degree (M.A., M.S., M.Eng., MBA, etc.)     80398.567543   \n",
       "Primary/elementary school                           67077.338235   \n",
       "Professional degree (JD, MD, Ph.D, Ed.D, etc.)      93415.384135   \n",
       "Secondary school (e.g. American high school, Ge...  54784.456336   \n",
       "Some college/university study without earning a...  74246.733942   \n",
       "Something else                                      61056.082524   \n",
       "\n",
       "                                                    missing_count  \n",
       "EdLevel                                                            \n",
       "Associate degree (A.A., A.S., etc.)                             0  \n",
       "Bachelor’s degree (B.A., B.S., B.Eng., etc.)                    0  \n",
       "Master’s degree (M.A., M.S., M.Eng., MBA, etc.)                 0  \n",
       "Primary/elementary school                                       0  \n",
       "Professional degree (JD, MD, Ph.D, Ed.D, etc.)                  0  \n",
       "Secondary school (e.g. American high school, Ge...              0  \n",
       "Some college/university study without earning a...              0  \n",
       "Something else                                                  0  "
      ]
     },
     "execution_count": 12,
     "metadata": {},
     "output_type": "execute_result"
    }
   ],
   "source": [
    "\n",
    "# Compute mean per EdLevel\n",
    "mean_by_group = df_no_outliers.groupby('EdLevel')['ConvertedCompYearly'].transform('mean')\n",
    "\n",
    "# Fill NaN values with the mean of their group\n",
    "df_no_outliers.loc[:, 'ConvertedCompYearly'] = df_no_outliers['ConvertedCompYearly'].fillna(mean_by_group)\n",
    "\n",
    "\n",
    "# Create a clean copy\n",
    "df_edited = df_no_outliers.copy()\n",
    "\n",
    "summary = df_edited['ConvertedCompYearly'].describe()\n",
    "summary['1%'] = df_edited['ConvertedCompYearly'].quantile(0.01)\n",
    "summary['5%'] = df_edited['ConvertedCompYearly'].quantile(0.05)\n",
    "\n",
    "print(summary)\n",
    "\n",
    "df_edited.groupby('EdLevel').agg(\n",
    "    mean_comp=('ConvertedCompYearly', 'mean'),\n",
    "    missing_count=('ConvertedCompYearly', lambda x: x.isna().sum())\n",
    ")\n"
   ]
  },
  {
   "cell_type": "markdown",
   "metadata": {},
   "source": [
    "##### Task 5: Normalize ConvertedCompYearly using Min-Max Scaling.\n",
    "Min-Max Scaling brings all values in a column to a 0-1 range, making it useful for comparing data across different scales. Here, you will apply Min-Max normalization to the ConvertedCompYearly column, creating a new column ConvertedCompYearly_MinMax with normalized values.\n"
   ]
  },
  {
   "cell_type": "code",
   "execution_count": 13,
   "metadata": {},
   "outputs": [
    {
     "name": "stdout",
     "output_type": "stream",
     "text": [
      "   ConvertedCompYearly  ConvertedCompYearly_MinMax\n",
      "0         67077.338235                    0.173031\n",
      "1         80644.245647                    0.208137\n",
      "2         80398.567543                    0.207501\n",
      "3         74246.733942                    0.191583\n",
      "4         54784.456336                    0.141221\n"
     ]
    }
   ],
   "source": [
    "\n",
    "# Min-Max Scaling for ConvertedCompYearly\n",
    "min_val = df_edited['ConvertedCompYearly'].min()\n",
    "max_val = df_edited['ConvertedCompYearly'].max()\n",
    "\n",
    "# Create new column with normalized values\n",
    "df_edited['ConvertedCompYearly_MinMax'] = (df_edited['ConvertedCompYearly'] - min_val) / (max_val - min_val)\n",
    "\n",
    "# Display first few rows\n",
    "print(df_edited[['ConvertedCompYearly', 'ConvertedCompYearly_MinMax']].head())\n"
   ]
  },
  {
   "cell_type": "markdown",
   "metadata": {},
   "source": [
    "##### Task 6: Apply Z-score Normalization to `ConvertedCompYearly`.\n",
    "\n",
    "Z-score normalization standardizes values by converting them to a distribution with a mean of 0 and a standard deviation of 1. This method is helpful for datasets with a Gaussian (normal) distribution. Here, you’ll calculate Z-scores for the ConvertedCompYearly column, saving the results in a new column ConvertedCompYearly_Zscore.\n"
   ]
  },
  {
   "cell_type": "code",
   "execution_count": 14,
   "metadata": {},
   "outputs": [
    {
     "name": "stdout",
     "output_type": "stream",
     "text": [
      "   ConvertedCompYearly  ConvertedCompYearly_Zscore\n",
      "0         67077.338235                   -0.257878\n",
      "1         80644.245647                    0.090202\n",
      "2         80398.567543                    0.083899\n",
      "3         74246.733942                   -0.073936\n",
      "4         54784.456336                   -0.573272\n"
     ]
    }
   ],
   "source": [
    "\n",
    "# Compute mean and standard deviation\n",
    "mean_val = df_edited['ConvertedCompYearly'].mean()\n",
    "std_val = df_edited['ConvertedCompYearly'].std()\n",
    "\n",
    "# Apply Z-score normalization\n",
    "df_edited['ConvertedCompYearly_Zscore'] = (df_edited['ConvertedCompYearly'] - mean_val) / std_val\n",
    "\n",
    "# Display first few rows\n",
    "print(df_edited[['ConvertedCompYearly', 'ConvertedCompYearly_Zscore']].head())\n"
   ]
  },
  {
   "cell_type": "markdown",
   "metadata": {},
   "source": [
    "### Section 4: Visualization of Normalized Data\n",
    "##### Task 7: Visualize the distribution of `ConvertedCompYearly`, `ConvertedCompYearly_Normalized`, and `ConvertedCompYearly_Zscore`\n",
    "\n",
    "Visualization helps you understand how normalization changes the data distribution. In this task, create histograms for the original ConvertedCompYearly, as well as its normalized versions (ConvertedCompYearly_MinMax and ConvertedCompYearly_Zscore). This will help you compare how each normalization technique affects the data range and distribution.\n"
   ]
  },
  {
   "cell_type": "code",
   "execution_count": 18,
   "metadata": {},
   "outputs": [
    {
     "data": {
      "image/png": "[encoded data removed]",
      "text/plain": [
       "<Figure size 1800x500 with 3 Axes>"
      ]
     },
     "metadata": {},
     "output_type": "display_data"
    }
   ],
   "source": [
    "\n",
    "# Create subplots\n",
    "fig, axes = plt.subplots(1, 3, figsize=(18, 5))\n",
    "\n",
    "# Histogram for original ConvertedCompYearly\n",
    "axes[0].hist(df_edited['ConvertedCompYearly'].dropna(), bins=30, color='skyblue', edgecolor='black')\n",
    "axes[0].set_title('Original ConvertedCompYearly')\n",
    "axes[0].set_xlabel('Compensation')\n",
    "axes[0].set_ylabel('Frequency')\n",
    "\n",
    "# Histogram for Min-Max Normalized\n",
    "axes[1].hist(df_edited['ConvertedCompYearly_MinMax'].dropna(), bins=30, color='lightgreen', edgecolor='black')\n",
    "axes[1].set_title('Min-Max Normalized')\n",
    "axes[1].set_xlabel('Normalized Compensation')\n",
    "axes[1].set_ylabel('Frequency')\n",
    "\n",
    "# Histogram for Z-score Normalized\n",
    "axes[2].hist(df_edited['ConvertedCompYearly_Zscore'].dropna(), bins=30, color='salmon', edgecolor='black')\n",
    "axes[2].set_title('Z-score Normalized')\n",
    "axes[2].set_xlabel('Z-score')\n",
    "axes[2].set_ylabel('Frequency')\n",
    "\n",
    "# Adjust layout\n",
    "plt.tight_layout()\n",
    "plt.show()\n"
   ]
  },
  {
   "cell_type": "markdown",
   "metadata": {},
   "source": [
    "### Summary\n"
   ]
  },
  {
   "cell_type": "markdown",
   "metadata": {},
   "source": [
    "In this lab, you practiced essential normalization techniques, including:\n",
    "\n",
    "- Identifying and handling duplicate rows.\n",
    "\n",
    "- Checking for and imputing missing values.\n",
    "\n",
    "- Applying Min-Max scaling and Z-score normalization to compensation data.\n",
    "\n",
    "- Visualizing the impact of normalization on data distribution.\n"
   ]
  },
  {
   "cell_type": "markdown",
   "metadata": {},
   "source": [
    "Copyright © IBM Corporation. All rights reserved.\n"
   ]
  }
 ],
 "metadata": {
  "kernelspec": {
   "display_name": "Python 3 (ipykernel)",
   "language": "python",
   "name": "python3"
  },
  "language_info": {
   "codemirror_mode": {
    "name": "ipython",
    "version": 3
   },
   "file_extension": ".py",
   "mimetype": "text/x-python",
   "name": "python",
   "nbconvert_exporter": "python",
   "pygments_lexer": "ipython3",
   "version": "3.12.8"
  },
  "prev_pub_hash": "5b2314eae200c68d20ee3204d822e6fad4f5845945b4895f383c3007af43740d"
 },
 "nbformat": 4,
 "nbformat_minor": 4
}
